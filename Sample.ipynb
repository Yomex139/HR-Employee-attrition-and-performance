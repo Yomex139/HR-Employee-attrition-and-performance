{
 "cells": [
  {
   "cell_type": "markdown",
   "metadata": {},
   "source": [
    "#  import libraries"
   ]
  },
  {
   "cell_type": "code",
   "execution_count": 1,
   "metadata": {},
   "outputs": [],
   "source": [
    "import numpy as np\n",
    "import pandas as pd\n",
    "import matplotlib.pyplot as plt\n",
    "%matplotlib inline\n",
    "import seaborn as sns"
   ]
  },
  {
   "cell_type": "markdown",
   "metadata": {},
   "source": [
    "# importing dataset"
   ]
  },
  {
   "cell_type": "code",
   "execution_count": 2,
   "metadata": {},
   "outputs": [
    {
     "data": {
      "text/html": [
       "<div>\n",
       "<style scoped>\n",
       "    .dataframe tbody tr th:only-of-type {\n",
       "        vertical-align: middle;\n",
       "    }\n",
       "\n",
       "    .dataframe tbody tr th {\n",
       "        vertical-align: top;\n",
       "    }\n",
       "\n",
       "    .dataframe thead th {\n",
       "        text-align: right;\n",
       "    }\n",
       "</style>\n",
       "<table border=\"1\" class=\"dataframe\">\n",
       "  <thead>\n",
       "    <tr style=\"text-align: right;\">\n",
       "      <th></th>\n",
       "      <th>enrollee_id</th>\n",
       "      <th>city</th>\n",
       "      <th>city_development_index</th>\n",
       "      <th>gender</th>\n",
       "      <th>relevent_experience</th>\n",
       "      <th>enrolled_university</th>\n",
       "      <th>education_level</th>\n",
       "      <th>major_discipline</th>\n",
       "      <th>experience</th>\n",
       "      <th>company_size</th>\n",
       "      <th>company_type</th>\n",
       "      <th>last_new_job</th>\n",
       "      <th>training_hours</th>\n",
       "      <th>target</th>\n",
       "    </tr>\n",
       "  </thead>\n",
       "  <tbody>\n",
       "    <tr>\n",
       "      <th>0</th>\n",
       "      <td>8949</td>\n",
       "      <td>city_103</td>\n",
       "      <td>0.920</td>\n",
       "      <td>Male</td>\n",
       "      <td>Has relevent experience</td>\n",
       "      <td>no_enrollment</td>\n",
       "      <td>Graduate</td>\n",
       "      <td>STEM</td>\n",
       "      <td>&gt;20</td>\n",
       "      <td>NaN</td>\n",
       "      <td>NaN</td>\n",
       "      <td>1</td>\n",
       "      <td>36</td>\n",
       "      <td>1.0</td>\n",
       "    </tr>\n",
       "    <tr>\n",
       "      <th>1</th>\n",
       "      <td>29725</td>\n",
       "      <td>city_40</td>\n",
       "      <td>0.776</td>\n",
       "      <td>Male</td>\n",
       "      <td>No relevent experience</td>\n",
       "      <td>no_enrollment</td>\n",
       "      <td>Graduate</td>\n",
       "      <td>STEM</td>\n",
       "      <td>15</td>\n",
       "      <td>50-99</td>\n",
       "      <td>Pvt Ltd</td>\n",
       "      <td>&gt;4</td>\n",
       "      <td>47</td>\n",
       "      <td>0.0</td>\n",
       "    </tr>\n",
       "    <tr>\n",
       "      <th>2</th>\n",
       "      <td>11561</td>\n",
       "      <td>city_21</td>\n",
       "      <td>0.624</td>\n",
       "      <td>NaN</td>\n",
       "      <td>No relevent experience</td>\n",
       "      <td>Full time course</td>\n",
       "      <td>Graduate</td>\n",
       "      <td>STEM</td>\n",
       "      <td>5</td>\n",
       "      <td>NaN</td>\n",
       "      <td>NaN</td>\n",
       "      <td>never</td>\n",
       "      <td>83</td>\n",
       "      <td>0.0</td>\n",
       "    </tr>\n",
       "    <tr>\n",
       "      <th>3</th>\n",
       "      <td>33241</td>\n",
       "      <td>city_115</td>\n",
       "      <td>0.789</td>\n",
       "      <td>NaN</td>\n",
       "      <td>No relevent experience</td>\n",
       "      <td>NaN</td>\n",
       "      <td>Graduate</td>\n",
       "      <td>Business Degree</td>\n",
       "      <td>&lt;1</td>\n",
       "      <td>NaN</td>\n",
       "      <td>Pvt Ltd</td>\n",
       "      <td>never</td>\n",
       "      <td>52</td>\n",
       "      <td>1.0</td>\n",
       "    </tr>\n",
       "    <tr>\n",
       "      <th>4</th>\n",
       "      <td>666</td>\n",
       "      <td>city_162</td>\n",
       "      <td>0.767</td>\n",
       "      <td>Male</td>\n",
       "      <td>Has relevent experience</td>\n",
       "      <td>no_enrollment</td>\n",
       "      <td>Masters</td>\n",
       "      <td>STEM</td>\n",
       "      <td>&gt;20</td>\n",
       "      <td>50-99</td>\n",
       "      <td>Funded Startup</td>\n",
       "      <td>4</td>\n",
       "      <td>8</td>\n",
       "      <td>0.0</td>\n",
       "    </tr>\n",
       "  </tbody>\n",
       "</table>\n",
       "</div>"
      ],
      "text/plain": [
       "   enrollee_id      city  city_development_index gender  \\\n",
       "0         8949  city_103                   0.920   Male   \n",
       "1        29725   city_40                   0.776   Male   \n",
       "2        11561   city_21                   0.624    NaN   \n",
       "3        33241  city_115                   0.789    NaN   \n",
       "4          666  city_162                   0.767   Male   \n",
       "\n",
       "       relevent_experience enrolled_university education_level  \\\n",
       "0  Has relevent experience       no_enrollment        Graduate   \n",
       "1   No relevent experience       no_enrollment        Graduate   \n",
       "2   No relevent experience    Full time course        Graduate   \n",
       "3   No relevent experience                 NaN        Graduate   \n",
       "4  Has relevent experience       no_enrollment         Masters   \n",
       "\n",
       "  major_discipline experience company_size    company_type last_new_job  \\\n",
       "0             STEM        >20          NaN             NaN            1   \n",
       "1             STEM         15        50-99         Pvt Ltd           >4   \n",
       "2             STEM          5          NaN             NaN        never   \n",
       "3  Business Degree         <1          NaN         Pvt Ltd        never   \n",
       "4             STEM        >20        50-99  Funded Startup            4   \n",
       "\n",
       "   training_hours  target  \n",
       "0              36     1.0  \n",
       "1              47     0.0  \n",
       "2              83     0.0  \n",
       "3              52     1.0  \n",
       "4               8     0.0  "
      ]
     },
     "execution_count": 2,
     "metadata": {},
     "output_type": "execute_result"
    }
   ],
   "source": [
    "df = pd.read_csv('aug_train.csv.zip')\n",
    "#make a copy of dataframe(df)\n",
    "df_copy = df.copy()\n",
    "df_copy.head()"
   ]
  },
  {
   "cell_type": "code",
   "execution_count": 3,
   "metadata": {},
   "outputs": [
    {
     "name": "stdout",
     "output_type": "stream",
     "text": [
      "<class 'pandas.core.frame.DataFrame'>\n",
      "RangeIndex: 19158 entries, 0 to 19157\n",
      "Data columns (total 14 columns):\n",
      " #   Column                  Non-Null Count  Dtype  \n",
      "---  ------                  --------------  -----  \n",
      " 0   enrollee_id             19158 non-null  int64  \n",
      " 1   city                    19158 non-null  object \n",
      " 2   city_development_index  19158 non-null  float64\n",
      " 3   gender                  14650 non-null  object \n",
      " 4   relevent_experience     19158 non-null  object \n",
      " 5   enrolled_university     18772 non-null  object \n",
      " 6   education_level         18698 non-null  object \n",
      " 7   major_discipline        16345 non-null  object \n",
      " 8   experience              19093 non-null  object \n",
      " 9   company_size            13220 non-null  object \n",
      " 10  company_type            13018 non-null  object \n",
      " 11  last_new_job            18735 non-null  object \n",
      " 12  training_hours          19158 non-null  int64  \n",
      " 13  target                  19158 non-null  float64\n",
      "dtypes: float64(2), int64(2), object(10)\n",
      "memory usage: 2.0+ MB\n"
     ]
    }
   ],
   "source": [
    "df_copy.info()"
   ]
  },
  {
   "cell_type": "code",
   "execution_count": 4,
   "metadata": {},
   "outputs": [],
   "source": [
    "df_copy.isna().sum();"
   ]
  },
  {
   "cell_type": "code",
   "execution_count": 5,
   "metadata": {},
   "outputs": [],
   "source": [
    "x = df_copy.drop('target',axis=1)\n",
    "y = df_copy['target']"
   ]
  },
  {
   "cell_type": "code",
   "execution_count": 6,
   "metadata": {},
   "outputs": [],
   "source": [
    "#performing EDA on daaset\n",
    "# for columns,contents in df_copy.items():\n",
    "#     if pd.api.types.is_string_dtype(contents):\n",
    "#         print(columns)"
   ]
  },
  {
   "cell_type": "code",
   "execution_count": 7,
   "metadata": {},
   "outputs": [],
   "source": [
    "for columns,contents in df_copy.items():\n",
    "    if pd.api.types.is_numeric_dtype(contents):\n",
    "        if pd.isna(contents).sum():\n",
    "            df_copy[columns] = contents.fillna(contents.median())\n",
    "            \n",
    "for columns,contents in df_copy.items():\n",
    "    if pd.api.types.is_string_dtype(contents):\n",
    "        df_copy[columns] = pd.Categorical(contents).codes+1"
   ]
  },
  {
   "cell_type": "code",
   "execution_count": 8,
   "metadata": {},
   "outputs": [
    {
     "data": {
      "text/plain": [
       "enrollee_id               0\n",
       "city                      0\n",
       "city_development_index    0\n",
       "gender                    0\n",
       "relevent_experience       0\n",
       "enrolled_university       0\n",
       "education_level           0\n",
       "major_discipline          0\n",
       "experience                0\n",
       "company_size              0\n",
       "company_type              0\n",
       "last_new_job              0\n",
       "training_hours            0\n",
       "target                    0\n",
       "dtype: int64"
      ]
     },
     "execution_count": 8,
     "metadata": {},
     "output_type": "execute_result"
    }
   ],
   "source": [
    "df_copy.isna().sum()"
   ]
  },
  {
   "cell_type": "code",
   "execution_count": 9,
   "metadata": {},
   "outputs": [
    {
     "data": {
      "text/html": [
       "<div>\n",
       "<style scoped>\n",
       "    .dataframe tbody tr th:only-of-type {\n",
       "        vertical-align: middle;\n",
       "    }\n",
       "\n",
       "    .dataframe tbody tr th {\n",
       "        vertical-align: top;\n",
       "    }\n",
       "\n",
       "    .dataframe thead th {\n",
       "        text-align: right;\n",
       "    }\n",
       "</style>\n",
       "<table border=\"1\" class=\"dataframe\">\n",
       "  <thead>\n",
       "    <tr style=\"text-align: right;\">\n",
       "      <th></th>\n",
       "      <th>enrollee_id</th>\n",
       "      <th>city</th>\n",
       "      <th>city_development_index</th>\n",
       "      <th>gender</th>\n",
       "      <th>relevent_experience</th>\n",
       "      <th>enrolled_university</th>\n",
       "      <th>education_level</th>\n",
       "      <th>major_discipline</th>\n",
       "      <th>experience</th>\n",
       "      <th>company_size</th>\n",
       "      <th>company_type</th>\n",
       "      <th>last_new_job</th>\n",
       "      <th>training_hours</th>\n",
       "      <th>target</th>\n",
       "    </tr>\n",
       "  </thead>\n",
       "  <tbody>\n",
       "    <tr>\n",
       "      <th>enrollee_id</th>\n",
       "      <td>1.000000</td>\n",
       "      <td>-0.011566</td>\n",
       "      <td>-0.040455</td>\n",
       "      <td>0.047724</td>\n",
       "      <td>0.043359</td>\n",
       "      <td>-0.036285</td>\n",
       "      <td>-0.025997</td>\n",
       "      <td>-0.009837</td>\n",
       "      <td>0.001216</td>\n",
       "      <td>-0.024174</td>\n",
       "      <td>-0.044278</td>\n",
       "      <td>-0.024534</td>\n",
       "      <td>0.000998</td>\n",
       "      <td>0.049475</td>\n",
       "    </tr>\n",
       "    <tr>\n",
       "      <th>city</th>\n",
       "      <td>-0.011566</td>\n",
       "      <td>1.000000</td>\n",
       "      <td>-0.326104</td>\n",
       "      <td>-0.037927</td>\n",
       "      <td>0.006154</td>\n",
       "      <td>-0.078636</td>\n",
       "      <td>0.002207</td>\n",
       "      <td>0.023856</td>\n",
       "      <td>-0.041468</td>\n",
       "      <td>-0.010395</td>\n",
       "      <td>-0.033585</td>\n",
       "      <td>-0.012420</td>\n",
       "      <td>0.009537</td>\n",
       "      <td>0.056233</td>\n",
       "    </tr>\n",
       "    <tr>\n",
       "      <th>city_development_index</th>\n",
       "      <td>-0.040455</td>\n",
       "      <td>-0.326104</td>\n",
       "      <td>1.000000</td>\n",
       "      <td>0.152961</td>\n",
       "      <td>-0.059808</td>\n",
       "      <td>0.182541</td>\n",
       "      <td>0.073095</td>\n",
       "      <td>-0.055099</td>\n",
       "      <td>0.040492</td>\n",
       "      <td>0.057742</td>\n",
       "      <td>0.068513</td>\n",
       "      <td>0.027665</td>\n",
       "      <td>0.001920</td>\n",
       "      <td>-0.341665</td>\n",
       "    </tr>\n",
       "    <tr>\n",
       "      <th>gender</th>\n",
       "      <td>0.047724</td>\n",
       "      <td>-0.037927</td>\n",
       "      <td>0.152961</td>\n",
       "      <td>1.000000</td>\n",
       "      <td>-0.103032</td>\n",
       "      <td>0.112526</td>\n",
       "      <td>-0.007901</td>\n",
       "      <td>0.033729</td>\n",
       "      <td>0.014335</td>\n",
       "      <td>0.028411</td>\n",
       "      <td>0.059255</td>\n",
       "      <td>0.044949</td>\n",
       "      <td>-0.002380</td>\n",
       "      <td>-0.076416</td>\n",
       "    </tr>\n",
       "    <tr>\n",
       "      <th>relevent_experience</th>\n",
       "      <td>0.043359</td>\n",
       "      <td>0.006154</td>\n",
       "      <td>-0.059808</td>\n",
       "      <td>-0.103032</td>\n",
       "      <td>1.000000</td>\n",
       "      <td>-0.374705</td>\n",
       "      <td>0.047225</td>\n",
       "      <td>-0.303115</td>\n",
       "      <td>-0.009325</td>\n",
       "      <td>-0.308171</td>\n",
       "      <td>-0.324933</td>\n",
       "      <td>0.163729</td>\n",
       "      <td>-0.011566</td>\n",
       "      <td>0.128430</td>\n",
       "    </tr>\n",
       "    <tr>\n",
       "      <th>enrolled_university</th>\n",
       "      <td>-0.036285</td>\n",
       "      <td>-0.078636</td>\n",
       "      <td>0.182541</td>\n",
       "      <td>0.112526</td>\n",
       "      <td>-0.374705</td>\n",
       "      <td>1.000000</td>\n",
       "      <td>0.080790</td>\n",
       "      <td>0.147559</td>\n",
       "      <td>0.025274</td>\n",
       "      <td>0.195539</td>\n",
       "      <td>0.231285</td>\n",
       "      <td>-0.005341</td>\n",
       "      <td>0.001936</td>\n",
       "      <td>-0.148072</td>\n",
       "    </tr>\n",
       "    <tr>\n",
       "      <th>education_level</th>\n",
       "      <td>-0.025997</td>\n",
       "      <td>0.002207</td>\n",
       "      <td>0.073095</td>\n",
       "      <td>-0.007901</td>\n",
       "      <td>0.047225</td>\n",
       "      <td>0.080790</td>\n",
       "      <td>1.000000</td>\n",
       "      <td>-0.116546</td>\n",
       "      <td>0.016587</td>\n",
       "      <td>-0.003478</td>\n",
       "      <td>-0.003744</td>\n",
       "      <td>0.057100</td>\n",
       "      <td>-0.014019</td>\n",
       "      <td>-0.080352</td>\n",
       "    </tr>\n",
       "    <tr>\n",
       "      <th>major_discipline</th>\n",
       "      <td>-0.009837</td>\n",
       "      <td>0.023856</td>\n",
       "      <td>-0.055099</td>\n",
       "      <td>0.033729</td>\n",
       "      <td>-0.303115</td>\n",
       "      <td>0.147559</td>\n",
       "      <td>-0.116546</td>\n",
       "      <td>1.000000</td>\n",
       "      <td>0.011101</td>\n",
       "      <td>0.180351</td>\n",
       "      <td>0.205819</td>\n",
       "      <td>-0.142176</td>\n",
       "      <td>-0.005891</td>\n",
       "      <td>0.055429</td>\n",
       "    </tr>\n",
       "    <tr>\n",
       "      <th>experience</th>\n",
       "      <td>0.001216</td>\n",
       "      <td>-0.041468</td>\n",
       "      <td>0.040492</td>\n",
       "      <td>0.014335</td>\n",
       "      <td>-0.009325</td>\n",
       "      <td>0.025274</td>\n",
       "      <td>0.016587</td>\n",
       "      <td>0.011101</td>\n",
       "      <td>1.000000</td>\n",
       "      <td>-0.027598</td>\n",
       "      <td>-0.020507</td>\n",
       "      <td>0.063920</td>\n",
       "      <td>-0.006423</td>\n",
       "      <td>-0.009147</td>\n",
       "    </tr>\n",
       "    <tr>\n",
       "      <th>company_size</th>\n",
       "      <td>-0.024174</td>\n",
       "      <td>-0.010395</td>\n",
       "      <td>0.057742</td>\n",
       "      <td>0.028411</td>\n",
       "      <td>-0.308171</td>\n",
       "      <td>0.195539</td>\n",
       "      <td>-0.003478</td>\n",
       "      <td>0.180351</td>\n",
       "      <td>-0.027598</td>\n",
       "      <td>1.000000</td>\n",
       "      <td>0.523119</td>\n",
       "      <td>-0.122278</td>\n",
       "      <td>0.008203</td>\n",
       "      <td>-0.186320</td>\n",
       "    </tr>\n",
       "    <tr>\n",
       "      <th>company_type</th>\n",
       "      <td>-0.044278</td>\n",
       "      <td>-0.033585</td>\n",
       "      <td>0.068513</td>\n",
       "      <td>0.059255</td>\n",
       "      <td>-0.324933</td>\n",
       "      <td>0.231285</td>\n",
       "      <td>-0.003744</td>\n",
       "      <td>0.205819</td>\n",
       "      <td>-0.020507</td>\n",
       "      <td>0.523119</td>\n",
       "      <td>1.000000</td>\n",
       "      <td>-0.045737</td>\n",
       "      <td>-0.003072</td>\n",
       "      <td>-0.197853</td>\n",
       "    </tr>\n",
       "    <tr>\n",
       "      <th>last_new_job</th>\n",
       "      <td>-0.024534</td>\n",
       "      <td>-0.012420</td>\n",
       "      <td>0.027665</td>\n",
       "      <td>0.044949</td>\n",
       "      <td>0.163729</td>\n",
       "      <td>-0.005341</td>\n",
       "      <td>0.057100</td>\n",
       "      <td>-0.142176</td>\n",
       "      <td>0.063920</td>\n",
       "      <td>-0.122278</td>\n",
       "      <td>-0.045737</td>\n",
       "      <td>1.000000</td>\n",
       "      <td>-0.007413</td>\n",
       "      <td>-0.027653</td>\n",
       "    </tr>\n",
       "    <tr>\n",
       "      <th>training_hours</th>\n",
       "      <td>0.000998</td>\n",
       "      <td>0.009537</td>\n",
       "      <td>0.001920</td>\n",
       "      <td>-0.002380</td>\n",
       "      <td>-0.011566</td>\n",
       "      <td>0.001936</td>\n",
       "      <td>-0.014019</td>\n",
       "      <td>-0.005891</td>\n",
       "      <td>-0.006423</td>\n",
       "      <td>0.008203</td>\n",
       "      <td>-0.003072</td>\n",
       "      <td>-0.007413</td>\n",
       "      <td>1.000000</td>\n",
       "      <td>-0.021577</td>\n",
       "    </tr>\n",
       "    <tr>\n",
       "      <th>target</th>\n",
       "      <td>0.049475</td>\n",
       "      <td>0.056233</td>\n",
       "      <td>-0.341665</td>\n",
       "      <td>-0.076416</td>\n",
       "      <td>0.128430</td>\n",
       "      <td>-0.148072</td>\n",
       "      <td>-0.080352</td>\n",
       "      <td>0.055429</td>\n",
       "      <td>-0.009147</td>\n",
       "      <td>-0.186320</td>\n",
       "      <td>-0.197853</td>\n",
       "      <td>-0.027653</td>\n",
       "      <td>-0.021577</td>\n",
       "      <td>1.000000</td>\n",
       "    </tr>\n",
       "  </tbody>\n",
       "</table>\n",
       "</div>"
      ],
      "text/plain": [
       "                        enrollee_id      city  city_development_index  \\\n",
       "enrollee_id                1.000000 -0.011566               -0.040455   \n",
       "city                      -0.011566  1.000000               -0.326104   \n",
       "city_development_index    -0.040455 -0.326104                1.000000   \n",
       "gender                     0.047724 -0.037927                0.152961   \n",
       "relevent_experience        0.043359  0.006154               -0.059808   \n",
       "enrolled_university       -0.036285 -0.078636                0.182541   \n",
       "education_level           -0.025997  0.002207                0.073095   \n",
       "major_discipline          -0.009837  0.023856               -0.055099   \n",
       "experience                 0.001216 -0.041468                0.040492   \n",
       "company_size              -0.024174 -0.010395                0.057742   \n",
       "company_type              -0.044278 -0.033585                0.068513   \n",
       "last_new_job              -0.024534 -0.012420                0.027665   \n",
       "training_hours             0.000998  0.009537                0.001920   \n",
       "target                     0.049475  0.056233               -0.341665   \n",
       "\n",
       "                          gender  relevent_experience  enrolled_university  \\\n",
       "enrollee_id             0.047724             0.043359            -0.036285   \n",
       "city                   -0.037927             0.006154            -0.078636   \n",
       "city_development_index  0.152961            -0.059808             0.182541   \n",
       "gender                  1.000000            -0.103032             0.112526   \n",
       "relevent_experience    -0.103032             1.000000            -0.374705   \n",
       "enrolled_university     0.112526            -0.374705             1.000000   \n",
       "education_level        -0.007901             0.047225             0.080790   \n",
       "major_discipline        0.033729            -0.303115             0.147559   \n",
       "experience              0.014335            -0.009325             0.025274   \n",
       "company_size            0.028411            -0.308171             0.195539   \n",
       "company_type            0.059255            -0.324933             0.231285   \n",
       "last_new_job            0.044949             0.163729            -0.005341   \n",
       "training_hours         -0.002380            -0.011566             0.001936   \n",
       "target                 -0.076416             0.128430            -0.148072   \n",
       "\n",
       "                        education_level  major_discipline  experience  \\\n",
       "enrollee_id                   -0.025997         -0.009837    0.001216   \n",
       "city                           0.002207          0.023856   -0.041468   \n",
       "city_development_index         0.073095         -0.055099    0.040492   \n",
       "gender                        -0.007901          0.033729    0.014335   \n",
       "relevent_experience            0.047225         -0.303115   -0.009325   \n",
       "enrolled_university            0.080790          0.147559    0.025274   \n",
       "education_level                1.000000         -0.116546    0.016587   \n",
       "major_discipline              -0.116546          1.000000    0.011101   \n",
       "experience                     0.016587          0.011101    1.000000   \n",
       "company_size                  -0.003478          0.180351   -0.027598   \n",
       "company_type                  -0.003744          0.205819   -0.020507   \n",
       "last_new_job                   0.057100         -0.142176    0.063920   \n",
       "training_hours                -0.014019         -0.005891   -0.006423   \n",
       "target                        -0.080352          0.055429   -0.009147   \n",
       "\n",
       "                        company_size  company_type  last_new_job  \\\n",
       "enrollee_id                -0.024174     -0.044278     -0.024534   \n",
       "city                       -0.010395     -0.033585     -0.012420   \n",
       "city_development_index      0.057742      0.068513      0.027665   \n",
       "gender                      0.028411      0.059255      0.044949   \n",
       "relevent_experience        -0.308171     -0.324933      0.163729   \n",
       "enrolled_university         0.195539      0.231285     -0.005341   \n",
       "education_level            -0.003478     -0.003744      0.057100   \n",
       "major_discipline            0.180351      0.205819     -0.142176   \n",
       "experience                 -0.027598     -0.020507      0.063920   \n",
       "company_size                1.000000      0.523119     -0.122278   \n",
       "company_type                0.523119      1.000000     -0.045737   \n",
       "last_new_job               -0.122278     -0.045737      1.000000   \n",
       "training_hours              0.008203     -0.003072     -0.007413   \n",
       "target                     -0.186320     -0.197853     -0.027653   \n",
       "\n",
       "                        training_hours    target  \n",
       "enrollee_id                   0.000998  0.049475  \n",
       "city                          0.009537  0.056233  \n",
       "city_development_index        0.001920 -0.341665  \n",
       "gender                       -0.002380 -0.076416  \n",
       "relevent_experience          -0.011566  0.128430  \n",
       "enrolled_university           0.001936 -0.148072  \n",
       "education_level              -0.014019 -0.080352  \n",
       "major_discipline             -0.005891  0.055429  \n",
       "experience                   -0.006423 -0.009147  \n",
       "company_size                  0.008203 -0.186320  \n",
       "company_type                 -0.003072 -0.197853  \n",
       "last_new_job                 -0.007413 -0.027653  \n",
       "training_hours                1.000000 -0.021577  \n",
       "target                       -0.021577  1.000000  "
      ]
     },
     "execution_count": 9,
     "metadata": {},
     "output_type": "execute_result"
    }
   ],
   "source": [
    "corr = df_copy.corr()\n",
    "corr"
   ]
  },
  {
   "cell_type": "code",
   "execution_count": 10,
   "metadata": {},
   "outputs": [
    {
     "data": {
      "text/html": [
       "<div>\n",
       "<style scoped>\n",
       "    .dataframe tbody tr th:only-of-type {\n",
       "        vertical-align: middle;\n",
       "    }\n",
       "\n",
       "    .dataframe tbody tr th {\n",
       "        vertical-align: top;\n",
       "    }\n",
       "\n",
       "    .dataframe thead th {\n",
       "        text-align: right;\n",
       "    }\n",
       "</style>\n",
       "<table border=\"1\" class=\"dataframe\">\n",
       "  <thead>\n",
       "    <tr style=\"text-align: right;\">\n",
       "      <th></th>\n",
       "      <th>enrollee_id</th>\n",
       "      <th>city</th>\n",
       "      <th>city_development_index</th>\n",
       "      <th>gender</th>\n",
       "      <th>relevent_experience</th>\n",
       "      <th>enrolled_university</th>\n",
       "      <th>education_level</th>\n",
       "      <th>major_discipline</th>\n",
       "      <th>experience</th>\n",
       "      <th>company_size</th>\n",
       "      <th>company_type</th>\n",
       "      <th>last_new_job</th>\n",
       "      <th>training_hours</th>\n",
       "      <th>target</th>\n",
       "    </tr>\n",
       "  </thead>\n",
       "  <tbody>\n",
       "    <tr>\n",
       "      <th>0</th>\n",
       "      <td>8949</td>\n",
       "      <td>6</td>\n",
       "      <td>0.920</td>\n",
       "      <td>2</td>\n",
       "      <td>1</td>\n",
       "      <td>3</td>\n",
       "      <td>1</td>\n",
       "      <td>6</td>\n",
       "      <td>22</td>\n",
       "      <td>0</td>\n",
       "      <td>0</td>\n",
       "      <td>1</td>\n",
       "      <td>36</td>\n",
       "      <td>1.0</td>\n",
       "    </tr>\n",
       "    <tr>\n",
       "      <th>1</th>\n",
       "      <td>29725</td>\n",
       "      <td>78</td>\n",
       "      <td>0.776</td>\n",
       "      <td>2</td>\n",
       "      <td>2</td>\n",
       "      <td>3</td>\n",
       "      <td>1</td>\n",
       "      <td>6</td>\n",
       "      <td>7</td>\n",
       "      <td>5</td>\n",
       "      <td>6</td>\n",
       "      <td>5</td>\n",
       "      <td>47</td>\n",
       "      <td>0.0</td>\n",
       "    </tr>\n",
       "    <tr>\n",
       "      <th>2</th>\n",
       "      <td>11561</td>\n",
       "      <td>65</td>\n",
       "      <td>0.624</td>\n",
       "      <td>0</td>\n",
       "      <td>2</td>\n",
       "      <td>1</td>\n",
       "      <td>1</td>\n",
       "      <td>6</td>\n",
       "      <td>16</td>\n",
       "      <td>0</td>\n",
       "      <td>0</td>\n",
       "      <td>6</td>\n",
       "      <td>83</td>\n",
       "      <td>0.0</td>\n",
       "    </tr>\n",
       "    <tr>\n",
       "      <th>3</th>\n",
       "      <td>33241</td>\n",
       "      <td>15</td>\n",
       "      <td>0.789</td>\n",
       "      <td>0</td>\n",
       "      <td>2</td>\n",
       "      <td>0</td>\n",
       "      <td>1</td>\n",
       "      <td>2</td>\n",
       "      <td>21</td>\n",
       "      <td>0</td>\n",
       "      <td>6</td>\n",
       "      <td>6</td>\n",
       "      <td>52</td>\n",
       "      <td>1.0</td>\n",
       "    </tr>\n",
       "    <tr>\n",
       "      <th>4</th>\n",
       "      <td>666</td>\n",
       "      <td>51</td>\n",
       "      <td>0.767</td>\n",
       "      <td>2</td>\n",
       "      <td>1</td>\n",
       "      <td>3</td>\n",
       "      <td>3</td>\n",
       "      <td>6</td>\n",
       "      <td>22</td>\n",
       "      <td>5</td>\n",
       "      <td>2</td>\n",
       "      <td>4</td>\n",
       "      <td>8</td>\n",
       "      <td>0.0</td>\n",
       "    </tr>\n",
       "  </tbody>\n",
       "</table>\n",
       "</div>"
      ],
      "text/plain": [
       "   enrollee_id  city  city_development_index  gender  relevent_experience  \\\n",
       "0         8949     6                   0.920       2                    1   \n",
       "1        29725    78                   0.776       2                    2   \n",
       "2        11561    65                   0.624       0                    2   \n",
       "3        33241    15                   0.789       0                    2   \n",
       "4          666    51                   0.767       2                    1   \n",
       "\n",
       "   enrolled_university  education_level  major_discipline  experience  \\\n",
       "0                    3                1                 6          22   \n",
       "1                    3                1                 6           7   \n",
       "2                    1                1                 6          16   \n",
       "3                    0                1                 2          21   \n",
       "4                    3                3                 6          22   \n",
       "\n",
       "   company_size  company_type  last_new_job  training_hours  target  \n",
       "0             0             0             1              36     1.0  \n",
       "1             5             6             5              47     0.0  \n",
       "2             0             0             6              83     0.0  \n",
       "3             0             6             6              52     1.0  \n",
       "4             5             2             4               8     0.0  "
      ]
     },
     "execution_count": 10,
     "metadata": {},
     "output_type": "execute_result"
    }
   ],
   "source": [
    "df_copy.head()"
   ]
  },
  {
   "cell_type": "code",
   "execution_count": 11,
   "metadata": {},
   "outputs": [],
   "source": [
    "X = df_copy.drop('target',axis=1)\n",
    "Y = df_copy['target']"
   ]
  },
  {
   "cell_type": "code",
   "execution_count": 12,
   "metadata": {},
   "outputs": [
    {
     "data": {
      "text/plain": [
       "<AxesSubplot:>"
      ]
     },
     "execution_count": 12,
     "metadata": {},
     "output_type": "execute_result"
    },
    {
     "data": {
      "image/png": "[encoded data removed]",
      "text/plain": [
       "<Figure size 1440x720 with 2 Axes>"
      ]
     },
     "metadata": {
      "needs_background": "light"
     },
     "output_type": "display_data"
    }
   ],
   "source": [
    "plt.figure(figsize=(20,10))\n",
    "sns.heatmap(corr,\n",
    "            annot=True,\n",
    "            cmap='winter',)"
   ]
  },
  {
   "cell_type": "code",
   "execution_count": 13,
   "metadata": {},
   "outputs": [
    {
     "data": {
      "text/plain": [
       "<AxesSubplot:>"
      ]
     },
     "execution_count": 13,
     "metadata": {},
     "output_type": "execute_result"
    },
    {
     "data": {
      "image/png": "[encoded data removed]",
      "text/plain": [
       "<Figure size 432x288 with 1 Axes>"
      ]
     },
     "metadata": {
      "needs_background": "light"
     },
     "output_type": "display_data"
    }
   ],
   "source": [
    "sns.violinplot(data=df_copy.city_development_index)"
   ]
  },
  {
   "cell_type": "code",
   "execution_count": 14,
   "metadata": {},
   "outputs": [],
   "source": [
    "#sns.swarmplot(y='city',x='gender',data=df_copy)"
   ]
  },
  {
   "cell_type": "code",
   "execution_count": 15,
   "metadata": {},
   "outputs": [],
   "source": [
    "#sns.pairplot(data=df_copy)"
   ]
  },
  {
   "cell_type": "code",
   "execution_count": 16,
   "metadata": {},
   "outputs": [],
   "source": [
    "from sklearn.metrics import accuracy_score,classification_report,confusion_matrix,precision_score,recall_score,f1_score\n",
    "from sklearn.model_selection import train_test_split,cross_validate\n",
    "from sklearn.ensemble import RandomForestClassifier,RandomForestRegressor\n",
    "from sklearn.linear_model import LinearRegression\n",
    "RFC = RandomForestClassifier()\n",
    "RFR = RandomForestRegressor()\n",
    "LR = LinearRegression()"
   ]
  },
  {
   "cell_type": "code",
   "execution_count": 17,
   "metadata": {},
   "outputs": [],
   "source": [
    "X_train,X_test,Y_train,Y_test = train_test_split(X,Y,test_size=.2)"
   ]
  },
  {
   "cell_type": "code",
   "execution_count": 38,
   "metadata": {},
   "outputs": [
    {
     "ename": "TypeError",
     "evalue": "k_means() missing 2 required positional arguments: 'X' and 'n_clusters'",
     "output_type": "error",
     "traceback": [
      "\u001b[1;31m---------------------------------------------------------------------------\u001b[0m",
      "\u001b[1;31mTypeError\u001b[0m                                 Traceback (most recent call last)",
      "\u001b[1;32m<ipython-input-38-eb7665d8c581>\u001b[0m in \u001b[0;36m<module>\u001b[1;34m\u001b[0m\n\u001b[0;32m      8\u001b[0m     \u001b[1;32mreturn\u001b[0m \u001b[0mscore\u001b[0m\u001b[1;33m\u001b[0m\u001b[1;33m\u001b[0m\u001b[0m\n\u001b[0;32m      9\u001b[0m \u001b[1;32mfrom\u001b[0m \u001b[0msklearn\u001b[0m\u001b[1;33m.\u001b[0m\u001b[0mcluster\u001b[0m \u001b[1;32mimport\u001b[0m \u001b[0mk_means\u001b[0m\u001b[1;33m\u001b[0m\u001b[1;33m\u001b[0m\u001b[0m\n\u001b[1;32m---> 10\u001b[1;33m \u001b[0mkm\u001b[0m \u001b[1;33m=\u001b[0m \u001b[0mk_means\u001b[0m\u001b[1;33m(\u001b[0m\u001b[1;33m)\u001b[0m\u001b[1;33m\u001b[0m\u001b[1;33m\u001b[0m\u001b[0m\n\u001b[0m",
      "\u001b[1;32m~\\anaconda3\\lib\\site-packages\\sklearn\\utils\\validation.py\u001b[0m in \u001b[0;36minner_f\u001b[1;34m(*args, **kwargs)\u001b[0m\n\u001b[0;32m     70\u001b[0m                           FutureWarning)\n\u001b[0;32m     71\u001b[0m         \u001b[0mkwargs\u001b[0m\u001b[1;33m.\u001b[0m\u001b[0mupdate\u001b[0m\u001b[1;33m(\u001b[0m\u001b[1;33m{\u001b[0m\u001b[0mk\u001b[0m\u001b[1;33m:\u001b[0m \u001b[0marg\u001b[0m \u001b[1;32mfor\u001b[0m \u001b[0mk\u001b[0m\u001b[1;33m,\u001b[0m \u001b[0marg\u001b[0m \u001b[1;32min\u001b[0m \u001b[0mzip\u001b[0m\u001b[1;33m(\u001b[0m\u001b[0msig\u001b[0m\u001b[1;33m.\u001b[0m\u001b[0mparameters\u001b[0m\u001b[1;33m,\u001b[0m \u001b[0margs\u001b[0m\u001b[1;33m)\u001b[0m\u001b[1;33m}\u001b[0m\u001b[1;33m)\u001b[0m\u001b[1;33m\u001b[0m\u001b[1;33m\u001b[0m\u001b[0m\n\u001b[1;32m---> 72\u001b[1;33m         \u001b[1;32mreturn\u001b[0m \u001b[0mf\u001b[0m\u001b[1;33m(\u001b[0m\u001b[1;33m**\u001b[0m\u001b[0mkwargs\u001b[0m\u001b[1;33m)\u001b[0m\u001b[1;33m\u001b[0m\u001b[1;33m\u001b[0m\u001b[0m\n\u001b[0m\u001b[0;32m     73\u001b[0m     \u001b[1;32mreturn\u001b[0m \u001b[0minner_f\u001b[0m\u001b[1;33m\u001b[0m\u001b[1;33m\u001b[0m\u001b[0m\n\u001b[0;32m     74\u001b[0m \u001b[1;33m\u001b[0m\u001b[0m\n",
      "\u001b[1;31mTypeError\u001b[0m: k_means() missing 2 required positional arguments: 'X' and 'n_clusters'"
     ]
    }
   ],
   "source": [
    "#function to fit my model ,predict and scoring\n",
    "def fit_model(model,xtrain,ytrain,xtest,ytest):\n",
    "    score = {}\n",
    "    model = model.fit(xtrain,ytrain)\n",
    "    prediction = model.predict(xtest)\n",
    "    score = accuracy_score(ytest,prediction)\n",
    "    print(f'the accuracy of model,{model},is:{score}')\n",
    "    return score\n",
    "from sklearn.cluster import k_means\n",
    "km = k_means()"
   ]
  },
  {
   "cell_type": "code",
   "execution_count": 19,
   "metadata": {},
   "outputs": [
    {
     "name": "stdout",
     "output_type": "stream",
     "text": [
      "the accuracy of model,RandomForestClassifier(),is:0.7873173277661796\n"
     ]
    },
    {
     "data": {
      "text/plain": [
       "0.7873173277661796"
      ]
     },
     "execution_count": 19,
     "metadata": {},
     "output_type": "execute_result"
    }
   ],
   "source": [
    "fit_model(model=RFC,\n",
    "         xtrain=X_train,\n",
    "         ytrain=Y_train,\n",
    "         xtest=X_test,\n",
    "         ytest=Y_test)"
   ]
  },
  {
   "cell_type": "code",
   "execution_count": 23,
   "metadata": {},
   "outputs": [
    {
     "data": {
      "text/plain": [
       "1986     0.0\n",
       "16277    0.0\n",
       "13549    0.0\n",
       "3751     0.0\n",
       "1482     0.0\n",
       "        ... \n",
       "4331     0.0\n",
       "9276     0.0\n",
       "3098     0.0\n",
       "12610    0.0\n",
       "12469    1.0\n",
       "Name: target, Length: 3832, dtype: float64"
      ]
     },
     "execution_count": 23,
     "metadata": {},
     "output_type": "execute_result"
    }
   ],
   "source": [
    "Y_test"
   ]
  },
  {
   "cell_type": "code",
   "execution_count": 25,
   "metadata": {},
   "outputs": [],
   "source": [
    " model = LR.fit(X_train,Y_train)\n",
    "prediction = model.predict(X_test)\n",
    "prediction = pd.Series(prediction)\n",
    "#score = model.score(Y_test,prediction)"
   ]
  },
  {
   "cell_type": "code",
   "execution_count": null,
   "metadata": {},
   "outputs": [],
   "source": [
    "#score = model.score(Y_test,prediction)"
   ]
  },
  {
   "cell_type": "code",
   "execution_count": 26,
   "metadata": {},
   "outputs": [
    {
     "name": "stderr",
     "output_type": "stream",
     "text": [
      "[Parallel(n_jobs=1)]: Using backend SequentialBackend with 1 concurrent workers.\n"
     ]
    },
    {
     "name": "stdout",
     "output_type": "stream",
     "text": [
      "[CV]  ................................................................\n",
      "[CV] ................................................. , total=   4.2s\n",
      "[CV]  ................................................................\n"
     ]
    },
    {
     "name": "stderr",
     "output_type": "stream",
     "text": [
      "[Parallel(n_jobs=1)]: Done   1 out of   1 | elapsed:    4.2s remaining:    0.0s\n"
     ]
    },
    {
     "name": "stdout",
     "output_type": "stream",
     "text": [
      "[CV] ................................................. , total=   3.5s\n",
      "[CV]  ................................................................\n",
      "[CV] ................................................. , total=   3.5s\n",
      "[CV]  ................................................................\n",
      "[CV] ................................................. , total=   3.7s\n",
      "[CV]  ................................................................\n",
      "[CV] ................................................. , total=   3.7s\n"
     ]
    },
    {
     "name": "stderr",
     "output_type": "stream",
     "text": [
      "[Parallel(n_jobs=1)]: Done   5 out of   5 | elapsed:   18.6s finished\n"
     ]
    }
   ],
   "source": [
    "cr = cross_validate(estimator=RFC,\n",
    "                    X=X,\n",
    "                    y=Y,\n",
    "                    cv=5,\n",
    "                   verbose=2,)"
   ]
  },
  {
   "cell_type": "code",
   "execution_count": null,
   "metadata": {},
   "outputs": [],
   "source": [
    "cr"
   ]
  },
  {
   "cell_type": "code",
   "execution_count": 27,
   "metadata": {},
   "outputs": [],
   "source": [
    "from sklearn.model_selection import RandomizedSearchCV\n",
    "param = {\n",
    "         'bootstrap':[True,False],\n",
    "         'max_depth':[10,20,30,40,50,60,70,80,90,100,None],\n",
    "         'max_features':['auto','sqrt'],\n",
    "         'min_samples_leaf':[1,2,4],\n",
    "         'min_samples_split':[2,5,10],\n",
    "         'n_estimators':[20,50,100,400,500,1000,2500,2000]\n",
    "        }\n",
    "\n",
    "RandomCV = RandomizedSearchCV(estimator=RFC,\n",
    "                             param_distributions=param,\n",
    "                             n_jobs=-1,\n",
    "                             cv=5,\n",
    "                             verbose=2\n",
    "                             )"
   ]
  },
  {
   "cell_type": "code",
   "execution_count": 28,
   "metadata": {},
   "outputs": [
    {
     "name": "stdout",
     "output_type": "stream",
     "text": [
      "Fitting 5 folds for each of 10 candidates, totalling 50 fits\n"
     ]
    },
    {
     "name": "stderr",
     "output_type": "stream",
     "text": [
      "[Parallel(n_jobs=-1)]: Using backend LokyBackend with 4 concurrent workers.\n",
      "[Parallel(n_jobs=-1)]: Done  33 tasks      | elapsed:  8.8min\n",
      "[Parallel(n_jobs=-1)]: Done  50 out of  50 | elapsed: 11.6min finished\n"
     ]
    },
    {
     "data": {
      "text/plain": [
       "RandomizedSearchCV(cv=5, estimator=RandomForestClassifier(), n_jobs=-1,\n",
       "                   param_distributions={'bootstrap': [True, False],\n",
       "                                        'max_depth': [10, 20, 30, 40, 50, 60,\n",
       "                                                      70, 80, 90, 100, None],\n",
       "                                        'max_features': ['auto', 'sqrt'],\n",
       "                                        'min_samples_leaf': [1, 2, 4],\n",
       "                                        'min_samples_split': [2, 5, 10],\n",
       "                                        'n_estimators': [20, 50, 100, 400, 500,\n",
       "                                                         1000, 2500, 2000]},\n",
       "                   verbose=2)"
      ]
     },
     "execution_count": 28,
     "metadata": {},
     "output_type": "execute_result"
    }
   ],
   "source": [
    "RandomCV.fit(X,Y)"
   ]
  },
  {
   "cell_type": "code",
   "execution_count": 29,
   "metadata": {},
   "outputs": [
    {
     "data": {
      "text/plain": [
       "{'n_estimators': 2000,\n",
       " 'min_samples_split': 5,\n",
       " 'min_samples_leaf': 1,\n",
       " 'max_features': 'auto',\n",
       " 'max_depth': 10,\n",
       " 'bootstrap': True}"
      ]
     },
     "execution_count": 29,
     "metadata": {},
     "output_type": "execute_result"
    }
   ],
   "source": [
    "RandomCV.best_params_"
   ]
  },
  {
   "cell_type": "code",
   "execution_count": 30,
   "metadata": {},
   "outputs": [
    {
     "data": {
      "text/plain": [
       "0.7940803079372812"
      ]
     },
     "execution_count": 30,
     "metadata": {},
     "output_type": "execute_result"
    }
   ],
   "source": [
    "RandomCV.best_score_"
   ]
  },
  {
   "cell_type": "code",
   "execution_count": 31,
   "metadata": {},
   "outputs": [],
   "source": [
    "model = RFC.fit(X_train,Y_train)\n",
    "prediction = model.predict(X_test)\n",
    "score = accuracy_score(Y_test,prediction)"
   ]
  },
  {
   "cell_type": "code",
   "execution_count": 32,
   "metadata": {},
   "outputs": [
    {
     "data": {
      "text/plain": [
       "0.7860125260960334"
      ]
     },
     "execution_count": 32,
     "metadata": {},
     "output_type": "execute_result"
    }
   ],
   "source": [
    "score"
   ]
  },
  {
   "cell_type": "code",
   "execution_count": 37,
   "metadata": {},
   "outputs": [
    {
     "data": {
      "text/plain": [
       "'              precision    recall  f1-score   support\\n\\n         0.0       0.84      0.88      0.86      2883\\n         1.0       0.58      0.49      0.53       949\\n\\n    accuracy                           0.79      3832\\n   macro avg       0.71      0.69      0.70      3832\\nweighted avg       0.78      0.79      0.78      3832\\n'"
      ]
     },
     "execution_count": 37,
     "metadata": {},
     "output_type": "execute_result"
    }
   ],
   "source": [
    "CR = classification_report(Y_test,prediction)\n",
    "CR"
   ]
  },
  {
   "cell_type": "code",
   "execution_count": 34,
   "metadata": {},
   "outputs": [
    {
     "name": "stdout",
     "output_type": "stream",
     "text": [
      "0.5805243445692884\n",
      "0.48998946259220233\n",
      "0.5314285714285715\n",
      "0.7860125260960334\n"
     ]
    }
   ],
   "source": [
    "print(precision_score(Y_test,prediction))\n",
    "print(recall_score(Y_test,prediction))\n",
    "print(f1_score(Y_test,prediction))\n",
    "print(accuracy_score(Y_test,prediction))"
   ]
  },
  {
   "cell_type": "code",
   "execution_count": null,
   "metadata": {},
   "outputs": [],
   "source": []
  }
 ],
 "metadata": {
  "kernelspec": {
   "display_name": "Python 3",
   "language": "python",
   "name": "python3"
  },
  "language_info": {
   "codemirror_mode": {
    "name": "ipython",
    "version": 3
   },
   "file_extension": ".py",
   "mimetype": "text/x-python",
   "name": "python",
   "nbconvert_exporter": "python",
   "pygments_lexer": "ipython3",
   "version": "3.8.5"
  }
 },
 "nbformat": 4,
 "nbformat_minor": 4
}
